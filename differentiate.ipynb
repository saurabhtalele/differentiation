{
  "cells": [
    {
      "cell_type": "markdown",
      "metadata": {
        "id": "view-in-github",
        "colab_type": "text"
      },
      "source": [
        "<a href=\"https://colab.research.google.com/github/saurabhtalele/differentiation/blob/main/differentiate.ipynb\" target=\"_parent\"><img src=\"https://colab.research.google.com/assets/colab-badge.svg\" alt=\"Open In Colab\"/></a>"
      ]
    },
    {
      "metadata": {
        "id": "e_juy5Rv-eL1"
      },
      "cell_type": "markdown",
      "source": [
        "# Welcome to Jupyter!"
      ]
    },
    {
      "metadata": {
        "id": "Cds0lvF8-eMG"
      },
      "cell_type": "markdown",
      "source": [
        "This repo contains an introduction to [Jupyter](https://jupyter.org) and [IPython](https://ipython.org).\n",
        "\n",
        "Outline of some basics:\n",
        "\n",
        "* [Notebook Basics](../examples/Notebook/Notebook%20Basics.ipynb)\n",
        "* [IPython - beyond plain python](../examples/IPython%20Kernel/Beyond%20Plain%20Python.ipynb)\n",
        "* [Markdown Cells](../examples/Notebook/Working%20With%20Markdown%20Cells.ipynb)\n",
        "* [Rich Display System](../examples/IPython%20Kernel/Rich%20Output.ipynb)\n",
        "* [Custom Display logic](../examples/IPython%20Kernel/Custom%20Display%20Logic.ipynb)\n",
        "* [Running a Secure Public Notebook Server](../examples/Notebook/Running%20the%20Notebook%20Server.ipynb#Securing-the-notebook-server)\n",
        "* [How Jupyter works](../examples/Notebook/Multiple%20Languages%2C%20Frontends.ipynb) to run code in different languages."
      ]
    },
    {
      "metadata": {
        "id": "efVNLtAB-eMM"
      },
      "cell_type": "markdown",
      "source": [
        "You can also get this tutorial and run it on your laptop:\n",
        "\n",
        "    git clone https://github.com/ipython/ipython-in-depth\n",
        "\n",
        "Install IPython and Jupyter:\n",
        "\n",
        "with [conda](https://www.anaconda.com/download):\n",
        "\n",
        "    conda install ipython jupyter\n",
        "\n",
        "with pip:\n",
        "\n",
        "    # first, always upgrade pip!\n",
        "    pip install --upgrade pip\n",
        "    pip install --upgrade ipython jupyter\n",
        "\n",
        "Start the notebook in the tutorial directory:\n",
        "\n",
        "    cd ipython-in-depth\n",
        "    jupyter notebook"
      ]
    },
    {
      "metadata": {
        "trusted": true,
        "id": "BL73Ll3p-eMQ"
      },
      "cell_type": "code",
      "source": [
        "import numpy as np\n",
        "import matplotlib.pyplot as plt\n",
        "\n",
        "\n",
        "def analytic(x):\n",
        "    \"\"\" Analytic derivative\"\"\"\n",
        "    f=(np.pi/2)*np.cos((np.pi/2)*x)\n",
        "    return f\n",
        "\n",
        "def function(x):\n",
        "    \"\"\"Differential numeric\"\"\"\n",
        "    f= np.sin((np.pi/2)*x)\n",
        "    return f\n",
        "    \n",
        "\n",
        "def central(x,h):\n",
        "    f = (function(x+h)-function(x-h))/(2*h)\n",
        "    return f\n",
        "\n",
        "def forward(x,h):\n",
        "    f = (function(x+h)-function(x))/h\n",
        "    return f\n",
        "\n",
        "def firstdev(x,h):\n",
        "    f = (1*function(x-2*h)-8*function(x-1*h)+8*function(x+1*h)-1*function(x+2*h))/(12*1.0*h**1)\n",
        "    return f\n",
        "\n",
        "def secoderthree(x,h):\n",
        "    f = (1*function(x-1*h) -2*function(x+0*h) +1*function(x+1*h) )/(1*1.0*h**2)\n",
        "    return f\n",
        "\n",
        "def sectorfiv(x,h):\n",
        "    f  = (-1*function(x-2*h)  +16*function(x-1*h) -30*function(x+0*h) +16*function(x+1*h) -1*function(x+2*h))/(12*1.0*h**2)\n",
        "    return f"
      ],
      "execution_count": 1,
      "outputs": []
    },
    {
      "metadata": {
        "trusted": true,
        "id": "3RkvH5kJ-eMX"
      },
      "cell_type": "code",
      "source": [
        "def amalytic(x):\n",
        "   f = -1*(np.pi/2) * np.sin((np.pi/2)*x/2) *(np.pi/2) \n",
        "   return f"
      ],
      "execution_count": 2,
      "outputs": []
    },
    {
      "metadata": {
        "trusted": true,
        "colab": {
          "base_uri": "https://localhost:8080/"
        },
        "id": "bwjd9RD3-eMd",
        "outputId": "e3b7ad4d-3e16-41c6-c518-e2a8ca796b10"
      },
      "cell_type": "code",
      "source": [
        "error1 = abs(analytic(0.5) - central(0.5,0.1)) \n",
        "print(error1)\n",
        "\n",
        "error2=abs(analytic(0.5) - central(0.5,0.025)) \n",
        "print(\"error2\",error2)\n",
        "\n",
        "\n",
        "\n",
        "error3=abs(analytic(0.5) - forward(0.5,0.1)) \n",
        "print(\"error3\",error3)\n",
        "\n",
        "error4=abs(analytic(0.5) - forward(0.5,0.0125)) \n",
        "print(\"error4\",error4)\n",
        "\n",
        "error5=abs(analytic(0.5) - firstdev(0.5,0.1)) \n",
        "print(\"error5\",error5)\n",
        "\n",
        "error6=abs(analytic(0.5) - firstdev(0.5,0.05)) \n",
        "print(\"error6\",error6)\n",
        "\n",
        "\n",
        "error7=abs(amalytic(0.5)-secoderthree (0.5,0.05)) \n",
        "print(\"error7\",error7)\n",
        "\n",
        "\n",
        "error8=abs(amalytic(0.5)-sectorfiv (0.5,0.05)) \n",
        "print(\"error8\",error8)\n",
        "\n",
        "\n",
        "error9=abs(amalytic(0.5)-secoderthree (0.5,0.025)) \n",
        "print(\"error9\",error9)\n",
        "\n",
        "error10=abs(amalytic(0.5)-sectorfiv (0.5,0.0125)) \n",
        "print(\"error10\",error10)\n",
        "\n"
      ],
      "execution_count": 3,
      "outputs": [
        {
          "output_type": "stream",
          "name": "stdout",
          "text": [
            "0.004562024127219955\n",
            "error2 0.0002854564847138974\n",
            "error3 0.09161860265559163\n",
            "error4 0.010975493229891775\n",
            "error5 2.247436378044476e-05\n",
            "error6 1.4077457499706014e-06\n",
            "error7 0.7995858550784709\n",
            "error8 0.8004817906066675\n",
            "error9 0.8002583250746922\n",
            "error10 0.8004825249538579\n"
          ]
        }
      ]
    },
    {
      "metadata": {
        "trusted": true,
        "colab": {
          "base_uri": "https://localhost:8080/"
        },
        "id": "49sxQUZ_-eMh",
        "outputId": "6b85245b-96f3-4221-fe86-3ee80913928a"
      },
      "cell_type": "code",
      "source": [
        "error5=abs(analytic(0.5) - firstdev(0.5,0.1)) \n",
        "print(\"error5\",error5)"
      ],
      "execution_count": 4,
      "outputs": [
        {
          "output_type": "stream",
          "name": "stdout",
          "text": [
            "error5 2.247436378044476e-05\n"
          ]
        }
      ]
    },
    {
      "metadata": {
        "trusted": true,
        "id": "q17PpjTZ-eMn"
      },
      "cell_type": "code",
      "source": [
        "import numpy as np\n",
        "import matplotlib.pyplot as plt\n",
        "\n",
        "\n",
        "def analytic(x):\n",
        "    \"\"\" Analytic derivative\"\"\"\n",
        "    f=(np.pi/2)*np.cos((np.pi/2)*x)\n",
        "    return f\n",
        "\n",
        "def function(x):\n",
        "    \"\"\"Differential numeric\"\"\"\n",
        "    f= np.sin((np.pi/2)*x)\n",
        "    return f\n",
        "    \n",
        "\n",
        "def central(x,h):\n",
        "    f = (function(x+h)-function(x-h))/(2*h)\n",
        "    return f\n",
        "\n",
        "def forward(x,h):\n",
        "    f = (function(x+h)-function(x))/h\n",
        "    return f\n",
        "\n",
        "def firstdev(x,h):\n",
        "    f = (1*function(x-2*h)-8*function(x-1*h)+8*function(x+1*h)-1*function(x+2*h))/(12*1.0*h**1)\n",
        "    return f\n",
        "\n",
        "def secoderthree(x,h):\n",
        "    f = (1*function(x-1*h) -2*function(x+0*h) +1*function(x+1*h) )/(1*1.0*h**2)\n",
        "    return f\n",
        "\n",
        "def sectorfiv(x,h):\n",
        "    f  = (-1*function(x-2*h)  +16*function(x-1*h) -30*function(x+0*h) +16*function(x+1*h) -1*function(x+2*h))/(12*1.0*h**2)\n",
        "    return f\n",
        "\n",
        "def amalytic(x):\n",
        "    f  = -1*(np.pi/2) * np.sin((np.pi/2)*x/2) *(np.pi/2) \n",
        "    return f\n"
      ],
      "execution_count": 5,
      "outputs": []
    },
    {
      "metadata": {
        "trusted": true,
        "colab": {
          "base_uri": "https://localhost:8080/"
        },
        "id": "YV7eTAhj-eMt",
        "outputId": "b4faf1e5-268c-45dd-df1e-2d384bbbab38"
      },
      "cell_type": "code",
      "source": [
        "\n",
        "error1 = abs(analytic(0.5) - central(0.5,0.1)) \n",
        "print(error1)\n",
        "\n",
        "error2=abs(analytic(0.5) - central(0.5,0.025)) \n",
        "print(\"error2\",error2)\n",
        "\n",
        "\n",
        "\n",
        "error3=abs(analytic(0.5) - forward(0.5,0.1)) \n",
        "print(\"error3\",error3)\n",
        "\n",
        "error4=abs(analytic(0.5) - forward(0.5,0.0125)) \n",
        "print(\"error4\",error4)\n",
        "\n",
        "error5=abs(analytic(0.5) - firstdev(0.5,0.1)) \n",
        "print(\"error5\",error5)\n",
        "\n",
        "error6=abs(analytic(0.5) - firstdev(0.5,0.05)) \n",
        "print(\"error6\",error6)\n",
        "\n",
        "\n",
        "error7=abs(amalytic(0.5)-secoderthree (0.5,0.05)) \n",
        "print(\"error7\",error7)\n",
        "\n",
        "\n",
        "error8=abs(amalytic(0.5)-sectorfiv (0.5,0.05)) \n",
        "print(\"error8\",error8)\n",
        "\n",
        "\n",
        "error9=abs(amalytic(0.5)-secoderthree (0.5,0.025)) \n",
        "print(\"error9\",error9)\n",
        "\n",
        "error10=abs(amalytic(0.5)-sectorfiv (0.5,0.0125)) \n",
        "print(\"error10\",error10)"
      ],
      "execution_count": 6,
      "outputs": [
        {
          "output_type": "stream",
          "name": "stdout",
          "text": [
            "0.004562024127219955\n",
            "error2 0.0002854564847138974\n",
            "error3 0.09161860265559163\n",
            "error4 0.010975493229891775\n",
            "error5 2.247436378044476e-05\n",
            "error6 1.4077457499706014e-06\n",
            "error7 0.7995858550784709\n",
            "error8 0.8004817906066675\n",
            "error9 0.8002583250746922\n",
            "error10 0.8004825249538579\n"
          ]
        }
      ]
    }
  ],
  "metadata": {
    "kernelspec": {
      "name": "python3",
      "display_name": "Python 3",
      "language": "python"
    },
    "language_info": {
      "name": "python",
      "version": "3.6.11",
      "mimetype": "text/x-python",
      "codemirror_mode": {
        "name": "ipython",
        "version": 3
      },
      "pygments_lexer": "ipython3",
      "nbconvert_exporter": "python",
      "file_extension": ".py"
    },
    "colab": {
      "name": "differentiate.ipynb",
      "provenance": [],
      "include_colab_link": true
    }
  },
  "nbformat": 4,
  "nbformat_minor": 0
}